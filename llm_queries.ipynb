{
 "cells": [
  {
   "cell_type": "code",
   "execution_count": 7,
   "id": "ffd561c8-f2ef-4815-ac00-96745d41b5e0",
   "metadata": {},
   "outputs": [],
   "source": [
    "import os\n",
    "from groq import Groq\n",
    "groq_api_key = \"key\"  #removed for security reasons"
   ]
  },
  {
   "cell_type": "code",
   "execution_count": 8,
   "id": "f7d468e0-15cd-4c1c-b10e-c8a9d9f14edd",
   "metadata": {},
   "outputs": [],
   "source": [
    "client = Groq(api_key=groq_api_key)"
   ]
  },
  {
   "cell_type": "code",
   "execution_count": 46,
   "id": "b959193b-a6ea-4b14-bf12-b43a10e6a659",
   "metadata": {},
   "outputs": [],
   "source": [
    "import pandas as pd"
   ]
  },
  {
   "cell_type": "code",
   "execution_count": 86,
   "id": "19a7bac8-fe42-4072-ae3e-81566849cf94",
   "metadata": {},
   "outputs": [
    {
     "name": "stderr",
     "output_type": "stream",
     "text": [
      "/tmp/ipykernel_22398/347334682.py:1: FutureWarning: The argument 'infer_datetime_format' is deprecated and will be removed in a future version. A strict version of it is now the default, see https://pandas.pydata.org/pdeps/0004-consistent-to-datetime-parsing.html. You can safely remove this argument.\n",
      "  df = pd.read_csv('household_power_consumption.txt',\n",
      "/tmp/ipykernel_22398/347334682.py:1: UserWarning: Parsing dates in %d/%m/%Y %H:%M:%S format when dayfirst=False (the default) was specified. Pass `dayfirst=True` or specify a format to silence this warning.\n",
      "  df = pd.read_csv('household_power_consumption.txt',\n"
     ]
    }
   ],
   "source": [
    "df = pd.read_csv('household_power_consumption.txt',\n",
    "             \tsep=';',\n",
    "             \tparse_dates={'datetime': ['Date', 'Time']},\n",
    "             \tinfer_datetime_format=True,\n",
    "             \tna_values=['?'],\n",
    "             \tlow_memory=False)\n",
    "\n",
    "df = df.dropna()\n",
    "df['Global_active_power'] = df['Global_active_power'].astype(float)\n",
    "df = df.set_index('datetime')"
   ]
  },
  {
   "cell_type": "code",
   "execution_count": 48,
   "id": "ed81caba-be15-4a6b-8b27-17cf9f277cec",
   "metadata": {},
   "outputs": [
    {
     "name": "stdout",
     "output_type": "stream",
     "text": [
      "                     Global_active_power  Global_reactive_power  Voltage  \\\n",
      "datetime                                                                   \n",
      "2006-12-16 17:24:00                4.216                  0.418   234.84   \n",
      "2006-12-16 17:25:00                5.360                  0.436   233.63   \n",
      "2006-12-16 17:26:00                5.374                  0.498   233.29   \n",
      "2006-12-16 17:27:00                5.388                  0.502   233.74   \n",
      "2006-12-16 17:28:00                3.666                  0.528   235.68   \n",
      "...                                  ...                    ...      ...   \n",
      "2010-11-26 20:58:00                0.946                  0.000   240.43   \n",
      "2010-11-26 20:59:00                0.944                  0.000   240.00   \n",
      "2010-11-26 21:00:00                0.938                  0.000   239.82   \n",
      "2010-11-26 21:01:00                0.934                  0.000   239.70   \n",
      "2010-11-26 21:02:00                0.932                  0.000   239.55   \n",
      "\n",
      "                     Global_intensity  Sub_metering_1  Sub_metering_2  \\\n",
      "datetime                                                                \n",
      "2006-12-16 17:24:00              18.4             0.0             1.0   \n",
      "2006-12-16 17:25:00              23.0             0.0             1.0   \n",
      "2006-12-16 17:26:00              23.0             0.0             2.0   \n",
      "2006-12-16 17:27:00              23.0             0.0             1.0   \n",
      "2006-12-16 17:28:00              15.8             0.0             1.0   \n",
      "...                               ...             ...             ...   \n",
      "2010-11-26 20:58:00               4.0             0.0             0.0   \n",
      "2010-11-26 20:59:00               4.0             0.0             0.0   \n",
      "2010-11-26 21:00:00               3.8             0.0             0.0   \n",
      "2010-11-26 21:01:00               3.8             0.0             0.0   \n",
      "2010-11-26 21:02:00               3.8             0.0             0.0   \n",
      "\n",
      "                     Sub_metering_3  \n",
      "datetime                             \n",
      "2006-12-16 17:24:00            17.0  \n",
      "2006-12-16 17:25:00            16.0  \n",
      "2006-12-16 17:26:00            17.0  \n",
      "2006-12-16 17:27:00            17.0  \n",
      "2006-12-16 17:28:00            17.0  \n",
      "...                             ...  \n",
      "2010-11-26 20:58:00             0.0  \n",
      "2010-11-26 20:59:00             0.0  \n",
      "2010-11-26 21:00:00             0.0  \n",
      "2010-11-26 21:01:00             0.0  \n",
      "2010-11-26 21:02:00             0.0  \n",
      "\n",
      "[2049280 rows x 7 columns]\n"
     ]
    }
   ],
   "source": [
    "print(df)"
   ]
  },
  {
   "cell_type": "code",
   "execution_count": null,
   "id": "9cc1a7b6-06d0-4607-9a72-b229c2d9f5f0",
   "metadata": {},
   "outputs": [],
   "source": [
    "#q1: What was the average active power consumption in March 2007?"
   ]
  },
  {
   "cell_type": "code",
   "execution_count": 11,
   "id": "8376947a-84b3-429c-a72e-9efb50ed894e",
   "metadata": {},
   "outputs": [
    {
     "name": "stdout",
     "output_type": "stream",
     "text": [
      "You can filter the data for March 2007 and then calculate the mean of Global_active_power. \n",
      "\n",
      "Here is the code:\n",
      "\n",
      "```\n",
      "average_active_power = df.loc[(df.index.year == 2007) & (df.index.month == 3), 'Global_active_power'].mean()\n",
      "```\n",
      "\n",
      "This code will return the average active power consumption in March 2007.\n"
     ]
    }
   ],
   "source": [
    "#question 1 grok query\n",
    "\n",
    "from IPython.display import Markdown\n",
    "\n",
    "chat_completion = client.chat.completions.create(\n",
    " model=\"llama3-70b-8192\",\n",
    " messages=[{\"role\": \"user\", \"content\": \"Hello, Groq! I have a pandas dataframe with the following colums: datetime, Global_active_power, Global_reactive_power, Voltage, Global_intensity, Sub_metering_1, Sub_metering_2, Sub_metering_3.datetime colums is the index. Generate pandas code to calculate the average active power consumption in March 2007 given an example datetime format is 2010-02-11 where 2010 is the yera, 02 is the month and 11 is the day.\"}])\n",
    "\n",
    "print(chat_completion.choices[0].message.content)\n",
    "# Convert the output to Markdown\n",
    "#Markdown(chat_completion.choices[0].message.content)"
   ]
  },
  {
   "cell_type": "code",
   "execution_count": 45,
   "id": "72a7270a-7bd3-4af5-95c7-7ba30cb65832",
   "metadata": {},
   "outputs": [],
   "source": [
    "#Running groq question 1 code to get results"
   ]
  },
  {
   "cell_type": "code",
   "execution_count": 49,
   "id": "f3f0baf0-b3f3-4d2c-bcdb-440c80dc2ab5",
   "metadata": {},
   "outputs": [
    {
     "name": "stdout",
     "output_type": "stream",
     "text": [
      "1.3186270301754073\n"
     ]
    }
   ],
   "source": [
    "average_active_power = df.loc[(df.index.year == 2007) & (df.index.month == 3), 'Global_active_power'].mean()\n",
    "print(average_active_power)"
   ]
  },
  {
   "cell_type": "code",
   "execution_count": 50,
   "id": "a74ad956-4409-4e9d-ae89-90541a68ddb1",
   "metadata": {},
   "outputs": [],
   "source": [
    "#Verification of question 1 answer"
   ]
  },
  {
   "cell_type": "code",
   "execution_count": 54,
   "id": "f357db2c-5ed5-4dd5-a7d3-6f0b9aec1501",
   "metadata": {},
   "outputs": [],
   "source": [
    "start_date = '2007-03-01'\n",
    "end_date = '2007-03-31'"
   ]
  },
  {
   "cell_type": "code",
   "execution_count": 55,
   "id": "5f242c62-1584-4698-8160-77e70be38f64",
   "metadata": {},
   "outputs": [],
   "source": [
    "filtered_df = df.loc[start_date:end_date]"
   ]
  },
  {
   "cell_type": "code",
   "execution_count": 56,
   "id": "fcb49ca5-6ba2-4923-a664-1365b7cee38d",
   "metadata": {},
   "outputs": [
    {
     "name": "stdout",
     "output_type": "stream",
     "text": [
      "1.3186270301754073\n"
     ]
    }
   ],
   "source": [
    "value = filtered_df['Global_active_power'].mean()\n",
    "print(value)"
   ]
  },
  {
   "cell_type": "code",
   "execution_count": null,
   "id": "579fa1d6-2465-4311-b48d-8ea1cb191031",
   "metadata": {},
   "outputs": [],
   "source": [
    "#q2: What hour of the day had the highest power usage on Christmas 2006?"
   ]
  },
  {
   "cell_type": "code",
   "execution_count": 14,
   "id": "085eae3e-df5e-4192-b234-74abc2a30f96",
   "metadata": {},
   "outputs": [
    {
     "data": {
      "text/markdown": [
       "A festive question!\n",
       "\n",
       "Here's the pandas code to find the hour with the highest Global_active_power on Christmas Day 2006:\n",
       "```python\n",
       "import pandas as pd\n",
       "\n",
       "# assume 'df' is your DataFrame with a datetime index and a 'Global_active_power' column\n",
       "\n",
       "# filter data for Christmas Day 2006\n",
       "christmas_day_2006 = df[(df.index.year == 2006) & (df.index.month == 12) & (df.index.day == 25)]\n",
       "\n",
       "# group by hour and compute the max Global_active_power for each hour\n",
       "hourly_max_power = christmas_day_2006.groupby(christmas_day_2006.index.hour)['Global_active_power'].max()\n",
       "\n",
       "# find the hour with the highest Global_active_power\n",
       "print(\"Hour with highest Global_active_power on Christmas Day 2006:\")\n",
       "print(hourly_max_power.idxmax())\n",
       "```\n",
       "Here's what's happening:\n",
       "\n",
       "1. We filter the data to only include rows where the year is 2006, month is December (12), and day is 25 (Christmas Day).\n",
       "2. We group the filtered data by the `hour` attribute of the datetime index. This creates a group for each hour of the day (0 to 23).\n",
       "4. We compute the maximum `Global_active_power` for each hour using `.max()`. This gives us a Series with the maximum power for each hour.\n",
       "5. Finally, we use `.idxmax()` to find the hour with the maximum power.\n",
       "\n",
       "Note: If there are multiple hours with the same maximum power, `.idxmax()` will return the first one it encounters."
      ],
      "text/plain": [
       "<IPython.core.display.Markdown object>"
      ]
     },
     "execution_count": 14,
     "metadata": {},
     "output_type": "execute_result"
    }
   ],
   "source": [
    "#question 2 qrok query\n",
    "\n",
    "from IPython.display import Markdown\n",
    "\n",
    "chat_completion = client.chat.completions.create(\n",
    " model=\"llama3-70b-8192\",\n",
    " messages=[{\"role\": \"user\", \"content\": \"Hello, Groq! What hour of the day had the highest Global_active_power on Christmas Day 2006, given a DataFrame with a datetime index and a Global_active_power column? Give me the pandas code while considering the series attribute hour\"}])\n",
    "\n",
    "#print(chat_completion.choices[0].message.content)\n",
    "# Convert the output to Markdown\n",
    "Markdown(chat_completion.choices[0].message.content)"
   ]
  },
  {
   "cell_type": "code",
   "execution_count": 58,
   "id": "213f6774-9059-4686-9269-8e429bdce6c6",
   "metadata": {},
   "outputs": [],
   "source": [
    "#Running groq question 2 code to get results"
   ]
  },
  {
   "cell_type": "code",
   "execution_count": 59,
   "id": "9c36c86f-ef0b-4cff-bf13-28fd471bd091",
   "metadata": {},
   "outputs": [
    {
     "name": "stdout",
     "output_type": "stream",
     "text": [
      "Hour with highest Global_active_power on Christmas Day 2006:\n",
      "21\n"
     ]
    }
   ],
   "source": [
    "christmas_day_2006 = df[(df.index.year == 2006) & (df.index.month == 12) & (df.index.day == 25)]\n",
    "\n",
    "# group by hour and compute the max Global_active_power for each hour\n",
    "hourly_max_power = christmas_day_2006.groupby(christmas_day_2006.index.hour)['Global_active_power'].max()\n",
    "\n",
    "# find the hour with the highest Global_active_power\n",
    "print(\"Hour with highest Global_active_power on Christmas Day 2006:\")\n",
    "print(hourly_max_power.idxmax())"
   ]
  },
  {
   "cell_type": "code",
   "execution_count": 61,
   "id": "2cbce8de-2cce-4388-8108-e606bf445788",
   "metadata": {},
   "outputs": [],
   "source": [
    "#Verification of question 2 answer"
   ]
  },
  {
   "cell_type": "code",
   "execution_count": 62,
   "id": "f6776396-48df-4693-8ebb-450f407fb5c5",
   "metadata": {},
   "outputs": [
    {
     "name": "stdout",
     "output_type": "stream",
     "text": [
      "                     Global_active_power  Global_reactive_power  Voltage  \\\n",
      "datetime                                                                   \n",
      "2006-12-25 00:00:00                0.586                  0.260   243.65   \n",
      "2006-12-25 00:01:00                0.584                  0.258   243.26   \n",
      "2006-12-25 00:02:00                0.648                  0.324   243.00   \n",
      "2006-12-25 00:03:00                0.654                  0.360   242.66   \n",
      "2006-12-25 00:04:00                0.656                  0.364   243.11   \n",
      "\n",
      "                     Global_intensity  Sub_metering_1  Sub_metering_2  \\\n",
      "datetime                                                                \n",
      "2006-12-25 00:00:00               2.6             0.0             1.0   \n",
      "2006-12-25 00:01:00               2.6             0.0             1.0   \n",
      "2006-12-25 00:02:00               3.0             0.0             2.0   \n",
      "2006-12-25 00:03:00               3.0             0.0             1.0   \n",
      "2006-12-25 00:04:00               3.0             0.0             1.0   \n",
      "\n",
      "                     Sub_metering_3  \n",
      "datetime                             \n",
      "2006-12-25 00:00:00             0.0  \n",
      "2006-12-25 00:01:00             0.0  \n",
      "2006-12-25 00:02:00             0.0  \n",
      "2006-12-25 00:03:00             0.0  \n",
      "2006-12-25 00:04:00             0.0  \n"
     ]
    }
   ],
   "source": [
    "single_day_df = df.loc['2006-12-25']\n",
    "print(single_day_df.head(5))"
   ]
  },
  {
   "cell_type": "code",
   "execution_count": 63,
   "id": "8ddfca6d-7379-48ed-8aff-74ea79ff1a6c",
   "metadata": {},
   "outputs": [
    {
     "name": "stdout",
     "output_type": "stream",
     "text": [
      "Global_active_power        6.702\n",
      "Global_reactive_power      0.000\n",
      "Voltage                  236.450\n",
      "Global_intensity          28.200\n",
      "Sub_metering_1            38.000\n",
      "Sub_metering_2            36.000\n",
      "Sub_metering_3            17.000\n",
      "Name: 2006-12-25 21:46:00, dtype: float64\n"
     ]
    }
   ],
   "source": [
    "max_row = single_day_df.loc[single_day_df['Global_active_power'].idxmax()]\n",
    "print(max_row)"
   ]
  },
  {
   "cell_type": "code",
   "execution_count": 64,
   "id": "4190a25a-9328-40fa-8b4c-05f10f71a057",
   "metadata": {},
   "outputs": [
    {
     "name": "stdout",
     "output_type": "stream",
     "text": [
      "Hour: 21\n"
     ]
    }
   ],
   "source": [
    "hour = max_row.name.hour\n",
    "print(\"Hour:\", hour)"
   ]
  },
  {
   "cell_type": "code",
   "execution_count": null,
   "id": "28967c73-6742-4ee3-bd14-669606709fcd",
   "metadata": {},
   "outputs": [],
   "source": [
    "#q3: Compare energy usage (Global_active_power) on weekdays vs weekends."
   ]
  },
  {
   "cell_type": "code",
   "execution_count": 16,
   "id": "698e2892-1aca-4085-bf8a-ba64ff20241e",
   "metadata": {},
   "outputs": [
    {
     "data": {
      "text/markdown": [
       "Here is the code to compare the energy usage on weekdays vs weekends:\n",
       "```\n",
       "import pandas as pd\n",
       "\n",
       "# assume 'df' is your dataframe\n",
       "\n",
       "# extract day of the week from datetime index\n",
       "df['day_of_week'] = df.index.dayofweek\n",
       "\n",
       "# map day of week to weekday/weekend categories\n",
       "df['weekday_weekend'] = df['day_of_week'].apply(lambda x: 'weekday' if x < 5 else 'weekend')\n",
       "\n",
       "# group by weekday/weekend energy_usage = df.groupby('weekday_weekend')['Global_active_power'].mean()\n",
       "\n",
       "print(energy_usage)\n",
       "```\n",
       "Here's what's happening:\n",
       "\n",
       "1. We extract the day of the week from the datetime index using `dayofweek`, which returns an integer from 0 (Monday) to 6 (Sunday).\n",
       "2. We create a new column `weekday_weekend` by applying a lambda function to the `day_of_week` column. If the day is Monday to Friday (0-4), we assign 'weekday', otherwise 'weekend'.\n",
       "3. We group the dataframe by the `weekday_weekend` column and calculate the mean of `Global_active_power` for each group using `groupby` and `mean`.\n",
       "4. Finally, we print the resulting series, which should show the average energy usage on weekdays and weekends.\n",
       "\n",
       "Note: Make sure your datetime index is in a datetime format that pandas understands. If your index is not a datetime index, you may need to convert it using `pd.to_datetime()` before running this code."
      ],
      "text/plain": [
       "<IPython.core.display.Markdown object>"
      ]
     },
     "execution_count": 16,
     "metadata": {},
     "output_type": "execute_result"
    }
   ],
   "source": [
    "#question 3 grok query\n",
    "\n",
    "from IPython.display import Markdown\n",
    "\n",
    "chat_completion = client.chat.completions.create(\n",
    " model=\"llama3-70b-8192\",\n",
    " messages=[{\"role\": \"user\", \"content\": \"Hello, Groq! I have a pandas dataframe with the following colums: datetime, Global_active_power, Global_reactive_power, Voltage, Global_intensity, Sub_metering_1, Sub_metering_2, Sub_metering_3.datetime colums is the index. Generate pandas code to compare the energy usage(Global_active_power) on weekdays vs weekends. Make sure the code is correct\"}])\n",
    "\n",
    "#print(chat_completion.choices[0].message.content)\n",
    "# Convert the output to Markdown\n",
    "Markdown(chat_completion.choices[0].message.content)"
   ]
  },
  {
   "cell_type": "code",
   "execution_count": 65,
   "id": "8122efbb-5b72-4d4a-8804-aab149c561fb",
   "metadata": {},
   "outputs": [],
   "source": [
    "#Running groq question 3 code to get results"
   ]
  },
  {
   "cell_type": "code",
   "execution_count": 66,
   "id": "c681be95-a8dd-4316-bf0a-56e9852c25f9",
   "metadata": {},
   "outputs": [
    {
     "name": "stdout",
     "output_type": "stream",
     "text": [
      "weekday_weekend\n",
      "weekday    1.035472\n",
      "weekend    1.234232\n",
      "Name: Global_active_power, dtype: float64\n"
     ]
    }
   ],
   "source": [
    "# assume 'df' is your dataframe\n",
    "\n",
    "# extract day of the week from datetime index\n",
    "df['day_of_week'] = df.index.dayofweek\n",
    "\n",
    "# map day of week to weekday/weekend categories\n",
    "df['weekday_weekend'] = df['day_of_week'].apply(lambda x: 'weekday' if x < 5 else 'weekend')\n",
    "\n",
    "# group by weekday/weekend \n",
    "energy_usage = df.groupby('weekday_weekend')['Global_active_power'].mean()\n",
    "\n",
    "print(energy_usage)"
   ]
  },
  {
   "cell_type": "code",
   "execution_count": 68,
   "id": "d5533932-945e-4cc9-85b5-89678ff01b66",
   "metadata": {},
   "outputs": [],
   "source": [
    "#Verification of question 3 answer"
   ]
  },
  {
   "cell_type": "code",
   "execution_count": 96,
   "id": "fd49ca8c-fb45-4785-b570-8da8af5137a2",
   "metadata": {},
   "outputs": [
    {
     "name": "stdout",
     "output_type": "stream",
     "text": [
      "day_type\n",
      "Weekday    1.035472\n",
      "Weekend    1.234232\n",
      "Name: Global_active_power, dtype: float64\n"
     ]
    }
   ],
   "source": [
    "df['day_type'] = df.index.weekday.map(lambda x: 'Weekday' if x < 5 else 'Weekend')\n",
    "weekday_vs_weekend_usage = df.groupby('day_type')['Global_active_power'].mean()\n",
    "print(weekday_vs_weekend_usage)"
   ]
  },
  {
   "cell_type": "code",
   "execution_count": null,
   "id": "beaf31e4-2a1a-493c-b08d-27e249b9c757",
   "metadata": {},
   "outputs": [],
   "source": [
    "#q4: Find days where energy consumption exceeded 5 kWh."
   ]
  },
  {
   "cell_type": "code",
   "execution_count": 38,
   "id": "3a1708a2-ff3f-4754-9fab-b9563e81b0a0",
   "metadata": {},
   "outputs": [
    {
     "name": "stdout",
     "output_type": "stream",
     "text": [
      "Nice to help!\n",
      "\n",
      "Here's the pandas code to find all dates where any reading in a day exceeds 5 kWh:\n",
      "```python\n",
      "import pandas as pd\n",
      "\n",
      "# assume your DataFrame is called 'df'\n",
      "\n",
      "exceeding_days = df.resample('D')['Global_active_power(in kwh)'].apply(lambda x: x.max() > 5).index\n",
      "\n",
      "print(exceeding_days)\n",
      "```\n",
      "Let me explain what's happening:\n",
      "\n",
      "1. `resample('D')` groups the data by day, using the datetime index.\n",
      "2. `['Global_active_power(in kwh)']` selects only the column of interest.\n",
      "4. `apply(lambda x: x > 5)` applies a lambda function to each group (i.e., each day). The lambda function checks if any reading in the day exceeds 5 kWh.\n",
      "5. `.index` returns the dates where the condition is True.\n",
      "\n",
      "The resulting `exceeding_days` Series contains the dates where any reading in a day exceeds 5 kWh.\n"
     ]
    }
   ],
   "source": [
    "#question 4 groq query\n",
    "\n",
    "from IPython.display import Markdown\n",
    "\n",
    "chat_completion = client.chat.completions.create(\n",
    " model=\"llama3-70b-8192\",\n",
    " messages=[{\"role\": \"user\", \"content\": \"Hello, Groq! I have a pandas DataFrame where each row represents an energy reading, and the datetime is the index. There's a column called 'Global_active_power'. I want to find all dates where any reading in a day exceeds 5 kWh. Write pandas code to do this.\"}])\n",
    "\n",
    "print(chat_completion.choices[0].message.content)\n",
    "# Convert the output to Markdown\n",
    "#Markdown(chat_completion.choices[0].message.content)"
   ]
  },
  {
   "cell_type": "code",
   "execution_count": 69,
   "id": "cd7cd4c4-18c2-4eeb-802a-53182180e3b7",
   "metadata": {},
   "outputs": [],
   "source": [
    "#Running groq question 4 code to get results"
   ]
  },
  {
   "cell_type": "code",
   "execution_count": 70,
   "id": "f123ff99-8b91-44fd-a1a9-38d60d56ed1c",
   "metadata": {},
   "outputs": [
    {
     "name": "stdout",
     "output_type": "stream",
     "text": [
      "DatetimeIndex(['2006-12-16', '2006-12-17', '2006-12-18', '2006-12-19',\n",
      "               '2006-12-20', '2006-12-21', '2006-12-22', '2006-12-23',\n",
      "               '2006-12-24', '2006-12-25',\n",
      "               ...\n",
      "               '2010-11-17', '2010-11-18', '2010-11-19', '2010-11-20',\n",
      "               '2010-11-21', '2010-11-22', '2010-11-23', '2010-11-24',\n",
      "               '2010-11-25', '2010-11-26'],\n",
      "              dtype='datetime64[ns]', name='datetime', length=1442, freq='D')\n"
     ]
    }
   ],
   "source": [
    "exceeding_days = df.resample('D')['Global_active_power'].apply(lambda x: x.max() > 5).index\n",
    "print(exceeding_days)"
   ]
  },
  {
   "cell_type": "code",
   "execution_count": 72,
   "id": "67c54068-1375-4c6a-b4be-5dd1faf15d3f",
   "metadata": {},
   "outputs": [],
   "source": [
    "#Verification of question 4 answer"
   ]
  },
  {
   "cell_type": "code",
   "execution_count": 73,
   "id": "901e9e11-be9d-4a19-aab5-767e150ae793",
   "metadata": {},
   "outputs": [
    {
     "name": "stdout",
     "output_type": "stream",
     "text": [
      "DatetimeIndex(['2006-12-16', '2006-12-17', '2006-12-18', '2006-12-19',\n",
      "               '2006-12-20', '2006-12-21', '2006-12-22', '2006-12-23',\n",
      "               '2006-12-24', '2006-12-25',\n",
      "               ...\n",
      "               '2010-11-09', '2010-11-10', '2010-11-11', '2010-11-13',\n",
      "               '2010-11-15', '2010-11-17', '2010-11-20', '2010-11-22',\n",
      "               '2010-11-24', '2010-11-25'],\n",
      "              dtype='datetime64[ns]', length=905, freq=None)\n"
     ]
    }
   ],
   "source": [
    "df.index = pd.to_datetime(df.index)\n",
    "high_readings = df['Global_active_power'] > 5\n",
    "days_with_high_consumption = high_readings.groupby(df.index.date).any()\n",
    "high_consumption_days = days_with_high_consumption[days_with_high_consumption].index\n",
    "high_consumption_days = pd.to_datetime(high_consumption_days)\n",
    "print(high_consumption_days)"
   ]
  },
  {
   "cell_type": "code",
   "execution_count": null,
   "id": "587cb5be-6bfb-4791-9576-fa6d0f6883c9",
   "metadata": {},
   "outputs": [],
   "source": [
    "#q5: Plot the energy usage trend for the first week of January 2007."
   ]
  },
  {
   "cell_type": "code",
   "execution_count": 42,
   "id": "93024b44-9f4c-43f2-b378-0bd793e746ec",
   "metadata": {},
   "outputs": [
    {
     "name": "stdout",
     "output_type": "stream",
     "text": [
      "Here is the code to plot the energy usage trend for the first week of January 2007:\n",
      "```\n",
      "import pandas as plt\n",
      "import matplotlib.pyplot as plt\n",
      "\n",
      "# assume your dataframe is named 'df'\n",
      "\n",
      "# filter the data for the first week of January 2007\n",
      "start_date = '2007-01-01'\n",
      "end_date = '2007-01-07'\n",
      "df_first_week = df[(df.index >= start_date) & (df.index <= end_date)]\n",
      "\n",
      "# plot the energy usage trend\n",
      "plt.figure(figsize=(10,6))\n",
      "plt.plot(df_first_week.index, df_first_week['Global_active_power'])\n",
      "plt.xlabel('Date')\n",
      "plt.ylabel('Global Active Power (kW)')\n",
      "plt.title('Energy Usage Trend - First Week of January 2007')\n",
      "plt.show()\n",
      "```\n",
      "This code filters the data for the first week of January 2007 using boolean indexing, and then plots the `Global_active_power` column against the index (datetime column) using `matplotlib`.\n"
     ]
    }
   ],
   "source": [
    "#question 5 qrok query\n",
    "\n",
    "from IPython.display import Markdown\n",
    "\n",
    "chat_completion = client.chat.completions.create(\n",
    " model=\"llama3-70b-8192\",\n",
    " messages=[{\"role\": \"user\", \"content\": \"Hello, Groq! I have a pandas DataFrame where the index is a datetime column, and one of the columns is 'Global_active_power'. I want to plot the energy usage trend (line chart) for the first week of January 2007. Generate pandas + matplotlib code to do this. Give correct code\"}])\n",
    "\n",
    "print(chat_completion.choices[0].message.content)\n",
    "# Convert the output to Markdown\n",
    "#Markdown(chat_completion.choices[0].message.content)"
   ]
  },
  {
   "cell_type": "code",
   "execution_count": 74,
   "id": "5fccb900-4e60-4ab4-9e81-695856248b20",
   "metadata": {},
   "outputs": [],
   "source": [
    "#Running groq question 5 code to get results"
   ]
  },
  {
   "cell_type": "code",
   "execution_count": 76,
   "id": "c461e085-4dea-4692-8a54-4ec3e06de5bf",
   "metadata": {},
   "outputs": [
    {
     "data": {
      "image/png": "[encoded data removed]",
      "text/plain": [
       "<Figure size 1000x600 with 1 Axes>"
      ]
     },
     "metadata": {},
     "output_type": "display_data"
    }
   ],
   "source": [
    "import matplotlib.pyplot as plt\n",
    "\n",
    "start_date = '2007-01-01'\n",
    "end_date = '2007-01-07'\n",
    "df_first_week = df[(df.index >= start_date) & (df.index <= end_date)]\n",
    "\n",
    "# plot the energy usage trend\n",
    "plt.figure(figsize=(10,6))\n",
    "plt.plot(df_first_week.index, df_first_week['Global_active_power'])\n",
    "plt.xlabel('Date')\n",
    "plt.ylabel('Global Active Power (kW)')\n",
    "plt.title('Energy Usage Trend - First Week of January 2007')\n",
    "plt.show()"
   ]
  },
  {
   "cell_type": "code",
   "execution_count": 77,
   "id": "34241809-a2be-4225-8d68-a6c5d94bdf26",
   "metadata": {},
   "outputs": [],
   "source": [
    "#Verification of question 5 answer"
   ]
  },
  {
   "cell_type": "code",
   "execution_count": 78,
   "id": "8fe3c458-4ba2-47d5-81e6-3e9199ece403",
   "metadata": {},
   "outputs": [],
   "source": [
    "start_date = '2007-01-01'\n",
    "end_date = '2007-01-07'"
   ]
  },
  {
   "cell_type": "code",
   "execution_count": 79,
   "id": "2965f6a3-1e40-4f81-aa1d-7d5ee916cf0e",
   "metadata": {},
   "outputs": [],
   "source": [
    "filtered_df = df.loc[start_date:end_date]"
   ]
  },
  {
   "cell_type": "code",
   "execution_count": 80,
   "id": "2f85eb0a-9ae3-4435-9a4b-667d7bb069b3",
   "metadata": {},
   "outputs": [],
   "source": [
    "power = filtered_df['Global_active_power']"
   ]
  },
  {
   "cell_type": "code",
   "execution_count": 81,
   "id": "36ac6729-6ba9-45b3-b540-6966f9c8c01b",
   "metadata": {},
   "outputs": [],
   "source": [
    "power_indices = power.index"
   ]
  },
  {
   "cell_type": "code",
   "execution_count": 82,
   "id": "6b2f9f9d-d902-4093-9809-cdddf4baf5c3",
   "metadata": {},
   "outputs": [],
   "source": [
    "power_values = power.values"
   ]
  },
  {
   "cell_type": "code",
   "execution_count": 83,
   "id": "231c94f9-f1ea-40f9-94cf-658500654688",
   "metadata": {},
   "outputs": [
    {
     "data": {
      "image/png": "[encoded data removed]",
      "text/plain": [
       "<Figure size 1000x500 with 1 Axes>"
      ]
     },
     "metadata": {},
     "output_type": "display_data"
    }
   ],
   "source": [
    "import matplotlib.pyplot as plt\n",
    "import pandas as pd\n",
    "\n",
    "# Sample data\n",
    "dates = power_indices\n",
    "energy_usage = power_values\n",
    "\n",
    "# Convert dates to datetime\n",
    "dates = pd.to_datetime(dates)\n",
    "\n",
    "# Create a DataFrame (optional but useful)\n",
    "df = pd.DataFrame({'Date': dates, 'Energy_kWh': energy_usage})\n",
    "\n",
    "# Plot\n",
    "plt.figure(figsize=(10, 5))\n",
    "plt.plot(df['Date'], df['Energy_kWh'], marker='o', linestyle='-')\n",
    "plt.title('Energy Usage Trend')\n",
    "plt.xlabel('Date')\n",
    "plt.ylabel('Energy (kWh)')\n",
    "plt.grid(True)\n",
    "plt.tight_layout()\n",
    "plt.show()\n"
   ]
  },
  {
   "cell_type": "code",
   "execution_count": null,
   "id": "6aa0029a-87b3-4c32-8728-fbcefa2c127c",
   "metadata": {},
   "outputs": [],
   "source": [
    "#q6: Find the average voltage for each day of the first week of February 2007."
   ]
  },
  {
   "cell_type": "code",
   "execution_count": 43,
   "id": "3d8067d2-8937-4c99-8ffc-62e5b4a8bba8",
   "metadata": {},
   "outputs": [
    {
     "name": "stdout",
     "output_type": "stream",
     "text": [
      "You can use the `resample` function in pandas to compute the average voltage for each day of the first week of February 2007:\n",
      "```\n",
      "df.loc['2007-02-01':'2007-02-07'].resample('D')['Voltage'].mean()\n",
      "```\n",
      "Here's how it works:\n",
      "\n",
      "* `df.loc['2007-02-01':'2007-02-07']` selects only the rows where the index (datetime) falls between February 1st and February 7th, 2007.\n",
      "* `resample('D')` groups the selected rows by day (i.e., each day becomes a separate group).\n",
      "* `['Voltage']` selects only the 'Voltage' column.\n",
      "* `.mean()` computes the average value of the 'Voltage' column for each day.\n",
      "\n",
      "This will give you a new DataFrame with a datetime index (February 1st to February 7th) and a single column with the average voltage for each day.\n",
      "\n",
      "Note: Make sure your datetime index is in the format `YYYY-MM-DD HH:MM:SS` for this to work correctly.\n"
     ]
    }
   ],
   "source": [
    "#question 6 qrok query\n",
    "\n",
    "from IPython.display import Markdown\n",
    "\n",
    "chat_completion = client.chat.completions.create(\n",
    " model=\"llama3-70b-8192\",\n",
    " messages=[{\"role\": \"user\", \"content\": \"I have a pandas DataFrame where each row represents an energy reading, and the datetime is the index. There's a column called 'Voltage'. I want to find the average voltage for each day of the first week of february 2007. Write pandas code to do this.\"}])\n",
    "\n",
    "print(chat_completion.choices[0].message.content)\n",
    "# Convert the output to Markdown\n",
    "#Markdown(chat_completion.choices[0].message.content)"
   ]
  },
  {
   "cell_type": "code",
   "execution_count": 84,
   "id": "f95a4563-3df1-4880-83fe-c69f9ef4cfaf",
   "metadata": {},
   "outputs": [],
   "source": [
    "#Running groq question 6 code to get results"
   ]
  },
  {
   "cell_type": "code",
   "execution_count": 87,
   "id": "f12e1608-24a9-43d1-bd7f-7d118acdc0c6",
   "metadata": {},
   "outputs": [
    {
     "data": {
      "text/plain": [
       "datetime\n",
       "2007-02-01    240.392139\n",
       "2007-02-02    240.334389\n",
       "2007-02-03    238.910194\n",
       "2007-02-04    239.633333\n",
       "2007-02-05    240.810312\n",
       "2007-02-06    241.264160\n",
       "2007-02-07    241.149694\n",
       "Freq: D, Name: Voltage, dtype: float64"
      ]
     },
     "execution_count": 87,
     "metadata": {},
     "output_type": "execute_result"
    }
   ],
   "source": [
    "df.loc['2007-02-01':'2007-02-07'].resample('D')['Voltage'].mean()"
   ]
  },
  {
   "cell_type": "code",
   "execution_count": 88,
   "id": "dd42f1b8-b227-4a65-a8f0-4410db523096",
   "metadata": {},
   "outputs": [],
   "source": [
    "#Verification of question 6 answer"
   ]
  },
  {
   "cell_type": "code",
   "execution_count": 89,
   "id": "b46b9a21-a1ec-4223-ae63-4466f76240ef",
   "metadata": {},
   "outputs": [],
   "source": [
    "start_date = '2007-02-01'\n",
    "end_date = '2007-02-07'"
   ]
  },
  {
   "cell_type": "code",
   "execution_count": 90,
   "id": "dddaac34-f6e3-4286-9eb5-538ecd92d9bf",
   "metadata": {},
   "outputs": [],
   "source": [
    "february_df = df.loc[start_date:end_date]"
   ]
  },
  {
   "cell_type": "code",
   "execution_count": 91,
   "id": "5110f59a-d856-4780-8b78-077e8c68c228",
   "metadata": {},
   "outputs": [
    {
     "name": "stdout",
     "output_type": "stream",
     "text": [
      "2007-02-01    240.392139\n",
      "2007-02-02    240.334389\n",
      "2007-02-03    238.910194\n",
      "2007-02-04    239.633333\n",
      "2007-02-05    240.810312\n",
      "2007-02-06    241.264160\n",
      "2007-02-07    241.149694\n",
      "Name: Voltage, dtype: float64\n"
     ]
    }
   ],
   "source": [
    "day_groups = february_df.groupby(february_df.index.date)\n",
    "mean_group = day_groups.mean()\n",
    "avg_voltage = mean_group['Voltage']\n",
    "print(avg_voltage)"
   ]
  },
  {
   "cell_type": "code",
   "execution_count": null,
   "id": "096d6353-13ab-49b0-bc20-a38458fee837",
   "metadata": {},
   "outputs": [],
   "source": [
    "#q7: What is the correlation between global active power and sub-metering values?"
   ]
  },
  {
   "cell_type": "code",
   "execution_count": 44,
   "id": "c3a82412-f890-43a2-b305-bc080e7a6e5c",
   "metadata": {},
   "outputs": [
    {
     "data": {
      "text/markdown": [
       "You can use the `corr()` function to calculate the correlation between Global_active_power and Sub_metering values. Here is the pandas code:\n",
       "```\n",
       "import pandas as pd\n",
       "\n",
       "# assuming your dataframe is named df\n",
       "\n",
       "correlations = df[['Global_active_power', 'Sub_metering_1', 'Sub_metering_2', 'Sub_metering_3']].corr()\n",
       "\n",
       "print(correlations)\n",
       "```\n",
       "This will output a 4x4 correlation matrix, where the rows and columns correspond to the columns specified in the `corr()` function.\n",
       "\n",
       "If you want to extract the correlation coefficients specifically between Global_active_power and each Sub_metering column, you can do:\n",
       "```\n",
       "correlations = df[['Global_active_power', 'Sub_metering_1', 'Sub_metering_2', 'Sub_metering_3']].corr().loc['Global_active_power', ['Sub_metering_1', 'Sub_metering_2', 'Sub_metering_3']]\n",
       "\n",
       "print(correlations)\n",
       "```\n",
       "This will output a Series with the correlation coefficients between Global_active_power and each Sub_metering column."
      ],
      "text/plain": [
       "<IPython.core.display.Markdown object>"
      ]
     },
     "execution_count": 44,
     "metadata": {},
     "output_type": "execute_result"
    }
   ],
   "source": [
    "#question 7 groq query\n",
    "\n",
    "from IPython.display import Markdown\n",
    "\n",
    "chat_completion = client.chat.completions.create(\n",
    " model=\"llama3-70b-8192\",\n",
    " messages=[{\"role\": \"user\", \"content\": \"I have a pandas dataframe with the following colums: datetime, Global_active_power, Global_reactive_power, Voltage, Global_intensity, Sub_metering_1, Sub_metering_2, Sub_metering_3.datetime colums is the index. Generate pandas code to find the correlation between gloabl active power and sub metering values.\"}])\n",
    "\n",
    "#print(chat_completion.choices[0].message.content)\n",
    "# Convert the output to Markdown\n",
    "Markdown(chat_completion.choices[0].message.content)"
   ]
  },
  {
   "cell_type": "code",
   "execution_count": 92,
   "id": "b5b0d3fc-41ff-495c-b9a4-298d6099fd61",
   "metadata": {},
   "outputs": [],
   "source": [
    "#Running groq question 7 code to get results"
   ]
  },
  {
   "cell_type": "code",
   "execution_count": 93,
   "id": "9ecc9fe5-de64-4fef-b410-f423dd50d377",
   "metadata": {},
   "outputs": [
    {
     "name": "stdout",
     "output_type": "stream",
     "text": [
      "Sub_metering_1    0.484401\n",
      "Sub_metering_2    0.434569\n",
      "Sub_metering_3    0.638555\n",
      "Name: Global_active_power, dtype: float64\n"
     ]
    }
   ],
   "source": [
    "correlations = df[['Global_active_power', 'Sub_metering_1', 'Sub_metering_2', 'Sub_metering_3']].corr().loc['Global_active_power', ['Sub_metering_1', 'Sub_metering_2', 'Sub_metering_3']]\n",
    "\n",
    "print(correlations)"
   ]
  },
  {
   "cell_type": "code",
   "execution_count": 94,
   "id": "99ca2f82-41dd-4ae3-96ff-9a5c1c277f1c",
   "metadata": {},
   "outputs": [],
   "source": [
    "#Verification of question 7 answer"
   ]
  },
  {
   "cell_type": "code",
   "execution_count": 95,
   "id": "8bd186dd-4808-4580-a247-47e0e61d41ae",
   "metadata": {},
   "outputs": [
    {
     "data": {
      "text/plain": [
       "Sub_metering_1    0.484401\n",
       "Sub_metering_2    0.434569\n",
       "Sub_metering_3    0.638555\n",
       "Name: Global_active_power, dtype: float64"
      ]
     },
     "execution_count": 95,
     "metadata": {},
     "output_type": "execute_result"
    }
   ],
   "source": [
    "df[['Global_active_power', 'Sub_metering_1', 'Sub_metering_2', 'Sub_metering_3']].corr().loc['Global_active_power', ['Sub_metering_1', 'Sub_metering_2', 'Sub_metering_3']]"
   ]
  },
  {
   "cell_type": "code",
   "execution_count": null,
   "id": "faa36514-a4b8-4c60-a386-960526de1454",
   "metadata": {},
   "outputs": [],
   "source": []
  }
 ],
 "metadata": {
  "kernelspec": {
   "display_name": "Python 3 (ipykernel)",
   "language": "python",
   "name": "python3"
  },
  "language_info": {
   "codemirror_mode": {
    "name": "ipython",
    "version": 3
   },
   "file_extension": ".py",
   "mimetype": "text/x-python",
   "name": "python",
   "nbconvert_exporter": "python",
   "pygments_lexer": "ipython3",
   "version": "3.11.7"
  }
 },
 "nbformat": 4,
 "nbformat_minor": 5
}
